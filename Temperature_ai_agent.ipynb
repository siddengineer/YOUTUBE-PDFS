{
  "nbformat": 4,
  "nbformat_minor": 0,
  "metadata": {
    "colab": {
      "provenance": [],
      "authorship_tag": "ABX9TyN3t7i5dX+5rUwrTvD2NLyC",
      "include_colab_link": true
    },
    "kernelspec": {
      "name": "python3",
      "display_name": "Python 3"
    },
    "language_info": {
      "name": "python"
    }
  },
  "cells": [
    {
      "cell_type": "markdown",
      "metadata": {
        "id": "view-in-github",
        "colab_type": "text"
      },
      "source": [
        "<a href=\"https://colab.research.google.com/github/siddengineer/YOUTUBE-PDFS/blob/main/Temperature_ai_agent.ipynb\" target=\"_parent\"><img src=\"https://colab.research.google.com/assets/colab-badge.svg\" alt=\"Open In Colab\"/></a>"
      ]
    },
    {
      "cell_type": "code",
      "source": [
        "import pandas as pd\n",
        "from sklearn.model_selection import train_test_split\n",
        "from sklearn.ensemble import RandomForestClassifier\n",
        "from sklearn.preprocessing import LabelEncoder\n",
        "\n",
        "# Step 1: Create the dataset\n",
        "data = {\n",
        "    \"Area\": [\"Kashmir\", \"Kashmir\", \"Kashmir\", \"Kashmir\", \"Kashmir\",\n",
        "             \"Rajasthan\", \"Rajasthan\", \"Rajasthan\", \"Rajasthan\", \"Rajasthan\",\n",
        "             \"Kashmir\", \"Kashmir\", \"Kashmir\", \"Rajasthan\", \"Rajasthan\",\n",
        "             \"Kashmir\", \"Kashmir\", \"Rajasthan\", \"Rajasthan\", \"Kashmir\"],\n",
        "    \"Temperature\": [-8, -5, 0, 2, -3,\n",
        "                    46, 42, 45, 47, 40,\n",
        "                    -6, 3, -2, 43, 39,\n",
        "                    -10, 1, 48, 38, -4],\n",
        "    \"Condition\": [\"Snowfall\", \"Snowfall\", \"Cloudy\", \"Sunny\", \"Fog\",\n",
        "                  \"Sandstorm\", \"Sunny\", \"Cloudy\", \"Sunny\", \"Fog\",\n",
        "                  \"Snowfall\", \"Sunny\", \"Fog\", \"Sandstorm\", \"Sunny\",\n",
        "                  \"Snowfall\", \"Cloudy\", \"Sunny\", \"Cloudy\", \"Snowfall\"],\n",
        "    \"WindSpeed\": [12, 15, 8, 5, 10,\n",
        "                  30, 20, 22, 35, 18,\n",
        "                  14, 7, 9, 28, 19,\n",
        "                  20, 6, 33, 17, 11],\n",
        "    \"SchoolTime\": [\"10:00 AM\", \"09:30 AM\", \"09:00 AM\", \"08:30 AM\", \"09:30 AM\",\n",
        "                   \"07:30 AM\", \"07:00 AM\", \"07:00 AM\", \"07:30 AM\", \"08:00 AM\",\n",
        "                   \"10:00 AM\", \"08:30 AM\", \"09:00 AM\", \"07:30 AM\", \"08:00 AM\",\n",
        "                   \"10:00 AM\", \"09:00 AM\", \"07:30 AM\", \"08:00 AM\", \"10:00 AM\"],\n",
        "    \"Mode\": [\"Online\", \"Online\", \"Offline\", \"Offline\", \"Online\",\n",
        "             \"Online\", \"Offline\", \"Offline\", \"Online\", \"Offline\",\n",
        "             \"Online\", \"Offline\", \"Online\", \"Online\", \"Offline\",\n",
        "             \"Online\", \"Offline\", \"Online\", \"Offline\", \"Online\"]\n",
        "}\n",
        "\n",
        "df = pd.DataFrame(data)\n",
        "\n",
        "# Step 2: Encode categorical values\n",
        "le_condition = LabelEncoder()\n",
        "le_schooltime = LabelEncoder()\n",
        "le_mode = LabelEncoder()\n",
        "\n",
        "df[\"ConditionEncoded\"] = le_condition.fit_transform(df[\"Condition\"])\n",
        "df[\"SchoolTimeEncoded\"] = le_schooltime.fit_transform(df[\"SchoolTime\"])\n",
        "df[\"ModeEncoded\"] = le_mode.fit_transform(df[\"Mode\"])\n",
        "\n",
        "# Step 3: Define features and targets\n",
        "features = df[[\"Temperature\", \"ConditionEncoded\", \"WindSpeed\"]]\n",
        "\n",
        "target_time = df[\"SchoolTimeEncoded\"]\n",
        "target_mode = df[\"ModeEncoded\"]\n",
        "\n",
        "# Step 4: Train models\n",
        "X_train_time, X_test_time, y_train_time, y_test_time = train_test_split(features, target_time, test_size=0.2, random_state=42)\n",
        "X_train_mode, X_test_mode, y_train_mode, y_test_mode = train_test_split(features, target_mode, test_size=0.2, random_state=42)\n",
        "\n",
        "time_model = RandomForestClassifier()\n",
        "mode_model = RandomForestClassifier()\n",
        "\n",
        "time_model.fit(X_train_time, y_train_time)\n",
        "mode_model.fit(X_train_mode, y_train_mode)\n",
        "\n",
        "# Step 5: Define the AI Agent\n",
        "class SchoolAIAgent:\n",
        "    def __init__(self, time_model, mode_model, le_condition, le_schooltime, le_mode):\n",
        "        self.time_model = time_model\n",
        "        self.mode_model = mode_model\n",
        "        self.le_condition = le_condition\n",
        "        self.le_schooltime = le_schooltime\n",
        "        self.le_mode = le_mode\n",
        "\n",
        "    def predict(self, temp, condition, windspeed):\n",
        "        cond_encoded = self.le_condition.transform([condition])[0]\n",
        "\n",
        "        # ✅ Pass input as DataFrame with correct column names\n",
        "        input_data = pd.DataFrame([{\n",
        "            'Temperature': temp,\n",
        "            'ConditionEncoded': cond_encoded,\n",
        "            'WindSpeed': windspeed\n",
        "        }])\n",
        "\n",
        "        time_encoded = self.time_model.predict(input_data)[0]\n",
        "        mode_encoded = self.mode_model.predict(input_data)[0]\n",
        "\n",
        "        school_time = self.le_schooltime.inverse_transform([time_encoded])[0]\n",
        "        mode = self.le_mode.inverse_transform([mode_encoded])[0]\n",
        "\n",
        "        print(f\"\\n📍 Based on the weather conditions:\")\n",
        "        print(f\"   Temperature: {temp}°C\")\n",
        "        print(f\"   Condition: {condition}\")\n",
        "        print(f\"   Wind Speed: {windspeed} km/h\")\n",
        "        print(f\"\\n🕒 Suggested School Time: {school_time}\")\n",
        "        print(f\"🧠 Recommended Mode: {'✅ Offline' if mode == 'Offline' else '💻 Online'}\")\n",
        "\n",
        "# Step 6: Use the agent\n",
        "agent = SchoolAIAgent(time_model, mode_model, le_condition, le_schooltime, le_mode)\n",
        "\n",
        "# 🌨️ Kashmir Example\n",
        "agent.predict(temp=-7, condition=\"Snowfall\", windspeed=14)\n",
        "\n",
        "# ☀️ Rajasthan Example\n",
        "agent.predict(temp=46, condition=\"Sunny\", windspeed=22)"
      ],
      "metadata": {
        "colab": {
          "base_uri": "https://localhost:8080/"
        },
        "id": "ls8i7MaoJWYC",
        "outputId": "b2b9b18b-2f9d-463e-9caa-1859b0d3201b"
      },
      "execution_count": 2,
      "outputs": [
        {
          "output_type": "stream",
          "name": "stdout",
          "text": [
            "\n",
            "📍 Based on the weather conditions:\n",
            "   Temperature: -7°C\n",
            "   Condition: Snowfall\n",
            "   Wind Speed: 14 km/h\n",
            "\n",
            "🕒 Suggested School Time: 10:00 AM\n",
            "🧠 Recommended Mode: 💻 Online\n",
            "\n",
            "📍 Based on the weather conditions:\n",
            "   Temperature: 46°C\n",
            "   Condition: Sunny\n",
            "   Wind Speed: 22 km/h\n",
            "\n",
            "🕒 Suggested School Time: 07:00 AM\n",
            "🧠 Recommended Mode: ✅ Offline\n"
          ]
        }
      ]
    }
  ]
}